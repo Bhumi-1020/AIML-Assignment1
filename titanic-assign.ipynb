{
 "cells": [
  {
   "cell_type": "code",
   "execution_count": null,
   "metadata": {},
   "outputs": [],
   "source": [
    "import pandas as pd\n",
    "import numpy as np\n",
    "from sklearn.model_selection import train_test_split\n",
    "\n",
    "titanic_df = pd.read_csv('Titanic-Dataset.csv')\n",
    "\n",
    "titanic_df = titanic_df.drop(['PassengerId', 'Name', 'Ticket', 'Cabin'], axis=1)\n",
    "titanic_df['Age'].fillna(titanic_df['Age'].median(), inplace=True)\n",
    "titanic_df['Embarked'].fillna(titanic_df['Embarked'].mode()[0], inplace=True)\n",
    "titanic_df['Fare'].fillna(titanic_df['Fare'].median(), inplace=True)\n",
    "\n",
    "titanic_df = pd.get_dummies(titanic_df, columns=['Sex', 'Embarked'], drop_first=True)\n",
    "\n",
    "X = titanic_df.drop('Survived', axis=1)\n",
    "y = titanic_df['Survived']\n",
    "\n",
    "X_train, X_test, y_train, y_test = train_test_split(X, y, test_size=0.3, random_state=42)\n",
    "\n",
    "def sigmoid(x):\n",
    "    return 1 / (1 + np.exp(-x))\n",
    "\n",
    "def hypothesis(X, theta):\n",
    "    return sigmoid(np.dot(X, theta))\n",
    "\n",
    "def cost(X, y, theta):\n",
    "    m = len(y)\n",
    "    h = hypothesis(X, theta)\n",
    "    return -1 / m * np.sum(y * np.log(h) + (1 - y) * np.log(1 - h))\n",
    "\n",
    "def gradient(X, y, theta):\n",
    "    m = len(y)\n",
    "    h = hypothesis(X, theta)\n",
    "    return 1 / m * np.dot(X.T, (h - y))\n",
    "\n",
    "def gradient_descent(X, y, learning_rate=0.02, epochs=500):\n",
    "    m, n = X.shape\n",
    "    theta = np.zeros(n)\n",
    "    costs = []\n",
    "    for _ in range(epochs):\n",
    "        theta -= learning_rate * gradient(X, y, theta)\n",
    "        costs.append(cost(X, y, theta))\n",
    "    return theta, costs\n",
    "\n",
    "X_train_bias = np.c_[np.ones((len(X_train), 1)), X_train]\n",
    "X_test_bias = np.c_[np.ones((len(X_test), 1)), X_test]\n",
    "\n",
    "theta, costs = gradient_descent(X_train_bias, y_train)\n",
    "\n",
    "def predict(X, theta):\n",
    "    return np.round(hypothesis(X, theta)).astype(int)\n",
    "\n",
    "y_pred = predict(X_test_bias, theta)\n",
    "\n",
    "accuracy = np.mean(y_pred == y_test) * 100\n",
    "print(\"Accuracy:\", accuracy, \"%\")"
   ]
  }
 ],
 "metadata": {
  "kernelspec": {
   "display_name": "Python 3",
   "language": "python",
   "name": "python3"
  },
  "language_info": {
   "codemirror_mode": {
    "name": "ipython",
    "version": 3
   },
   "file_extension": ".py",
   "mimetype": "text/x-python",
   "name": "python",
   "nbconvert_exporter": "python",
   "pygments_lexer": "ipython3",
   "version": "3.12.2"
  }
 },
 "nbformat": 4,
 "nbformat_minor": 2
}
